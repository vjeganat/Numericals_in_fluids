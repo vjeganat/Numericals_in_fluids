{
 "cells": [
  {
   "cell_type": "code",
   "execution_count": 1,
   "metadata": {
    "collapsed": true
   },
   "outputs": [],
   "source": [
    "import numpy as np\n",
    "import matplotlib.pyplot as plt\n",
    "import matplotlib as mpl"
   ]
  },
  {
   "cell_type": "markdown",
   "metadata": {},
   "source": [
    "## Linear advection equation \n",
    "\n",
    "We want to solve the two-dimensional linear equation:\n",
    "\n",
    "$\\displaystyle\\frac{\\partial a}{\\partial t} + u \\displaystyle\\frac{\\partial a}{\\partial x}+v \\displaystyle\\frac{\\partial a}{\\partial y}=0$,\n",
    "\n",
    "where $u$ and $v$ are constants. This equation simply displaces the initial condition $a(x,y,t=0)$ by a speed $u$ in the $x$ direction and a speed $v$ in the $y$ direction, such that the exact solution is readily available.\n",
    "\n",
    "## Second order solver with fluxes\n",
    "\n",
    "We will now follow the second order method outlined in Chapter 5.\n",
    "\n",
    "### Code\n",
    "\n",
    "We write down routines to create the grid, set the boundary conditions and initialize the state separately"
   ]
  },
  {
   "cell_type": "code",
   "execution_count": 2,
   "metadata": {
    "collapsed": true
   },
   "outputs": [],
   "source": [
    "def create_grid(ni,di):\n",
    "    return np.arange(ni)*di"
   ]
  },
  {
   "cell_type": "code",
   "execution_count": 3,
   "metadata": {
    "collapsed": true
   },
   "outputs": [],
   "source": [
    "def set_periodic_bc(mm):\n",
    "    mm[0,:]=mm[-1,:]\n",
    "    mm[:,0]=mm[:,-1]\n",
    "    return mm"
   ]
  },
  {
   "cell_type": "code",
   "execution_count": 23,
   "metadata": {
    "collapsed": true
   },
   "outputs": [],
   "source": [
    "def initialize_state(nx,ny,dx,dy):\n",
    "    m=np.zeros([nx,ny])\n",
    "    ilx=int(.333/dx)\n",
    "    irx=int(.666/dx)\n",
    "    ily=int(.333/dy)\n",
    "    iry=int(.666/dy)\n",
    "    m[ilx:irx,ily:iry]=1.\n",
    "    return m"
   ]
  },
  {
   "cell_type": "code",
   "execution_count": 24,
   "metadata": {
    "collapsed": true
   },
   "outputs": [],
   "source": [
    "def calculate_timestep(C,u,dx,v,dy):\n",
    "    return np.min(np.array([dx*C/u,dy*C/v]))"
   ]
  },
  {
   "cell_type": "markdown",
   "metadata": {},
   "source": [
    "We calculate the  'left' and 'right' states for the ($i\\pm1/2,j)$. We will follow Eq. (5.47) for $\\partial_x a$, using Strang splitting. We can use our previous solvers, but modify the arrays to become 2-D."
   ]
  },
  {
   "cell_type": "code",
   "execution_count": 25,
   "metadata": {
    "collapsed": true
   },
   "outputs": [],
   "source": [
    "def calculate_aL_x(a,u,dt,dx):\n",
    "    da=(np.roll(a,-1,axis=0)-np.roll(a,1,axis=0))/(2.*dx)\n",
    "    return a[:-1,:]+dx/2.*(1.-dt/dx*u)*da[:-1,:]"
   ]
  },
  {
   "cell_type": "code",
   "execution_count": 26,
   "metadata": {
    "collapsed": true
   },
   "outputs": [],
   "source": [
    "def calculate_aR_x(a,u,dt,dx):\n",
    "    da=(np.roll(a,-1,axis=0)-np.roll(a,1,axis=0))/(2.*dx)\n",
    "    return a[1:,:]-dx/2.*(1.+dt/dx*u)*da[1:,:]"
   ]
  },
  {
   "cell_type": "markdown",
   "metadata": {},
   "source": [
    "We calculate the  'left' and 'right' states for the ($i,j\\pm1/2)$ with Strang splitting, it becomes the same as earlier."
   ]
  },
  {
   "cell_type": "code",
   "execution_count": 27,
   "metadata": {
    "collapsed": true
   },
   "outputs": [],
   "source": [
    "def calculate_aL_y(a,v,dt,dy):\n",
    "    da=(np.roll(a,-1,axis=1)-np.roll(a,1,axis=1))/(2.*dy)\n",
    "    return a[:,:-1]+dy/2.*(1.-dt/dy*v)*da[:,:-1]"
   ]
  },
  {
   "cell_type": "code",
   "execution_count": 38,
   "metadata": {
    "collapsed": true
   },
   "outputs": [],
   "source": [
    "def calculate_aR_y(a,v,dt,dy):\n",
    "    da=(np.roll(a,-1,axis=1)-np.roll(a,1,axis=1))/(2.*dy)\n",
    "    return a[:,1:]-dy/2.*(1.+dt/dy*v)*da[:,1:]"
   ]
  },
  {
   "cell_type": "markdown",
   "metadata": {},
   "source": [
    "We solve the Riemann problem for the x-direction according to (5.10)"
   ]
  },
  {
   "cell_type": "code",
   "execution_count": 35,
   "metadata": {
    "collapsed": true
   },
   "outputs": [],
   "source": [
    "def solve_Riemann_x(aLx,aRx,u):\n",
    "    flux=aL*u\n",
    "    if (u<0):\n",
    "        flux=aR*u\n",
    "    return flux"
   ]
  },
  {
   "cell_type": "code",
   "execution_count": 36,
   "metadata": {
    "collapsed": true
   },
   "outputs": [],
   "source": [
    "def solve_Riemann_y(aLy,aRy,v):\n",
    "    flux=aL*v\n",
    "    if (v<0):\n",
    "        flux=aR*v    \n",
    "    return flux"
   ]
  },
  {
   "cell_type": "markdown",
   "metadata": {},
   "source": [
    "We will run the equation between $t_0=0$ and $t_\\max=1$, and set $u=v=1$. We will solve this in a periodic, unit square. All of this means that our initial solution will have travelled by one period in both x- and y, so the solution should be the same as the initial condition."
   ]
  },
  {
   "cell_type": "code",
   "execution_count": 44,
   "metadata": {},
   "outputs": [
    {
     "data": {
      "image/png": "[encoded data removed]",
      "text/plain": [
       "<matplotlib.figure.Figure at 0x7f636147b410>"
      ]
     },
     "metadata": {},
     "output_type": "display_data"
    }
   ],
   "source": [
    "t0=0.; tmax=1.;\n",
    "nx=64; u=1.;\n",
    "ny=64; v=1.;\n",
    "xmin=0.; xmax=1.\n",
    "dx=(xmax-xmin)/(nx)\n",
    "x=create_grid(nx+1,dx)\n",
    "ymin=0.; ymax=1.\n",
    "dy=(xmax-xmin)/(ny)\n",
    "y=create_grid(ny+1,dy)\n",
    "a0=initialize_state(nx+1,ny+1,dx,dy)\n",
    "a0=set_periodic_bc(a0)\n",
    "t=t0; nt=0\n",
    "a=a0.copy()\n",
    "C=0.9\n",
    "while t < tmax:\n",
    "    dt=calculate_timestep(C,u,dx,v,dy)\n",
    "    if(np.mod(nt,2)==0):  # For strang splitting, we do things differently on odd- and even time-steps\n",
    "        aL=calculate_aL_x(a,u,dt,dx)\n",
    "        aR=calculate_aR_x(a,u,dt,dx)\n",
    "        flux=solve_Riemann_x(aL,aR,u)\n",
    "        a[1:,:]=a[1:,:]-dt/dx*(np.roll(flux,-1,axis=0)-flux)\n",
    "        a=set_periodic_bc(a)\n",
    "        aL=calculate_aL_y(a,v,dt,dx)\n",
    "        aR=calculate_aR_y(a,v,dt,dx)\n",
    "        flux=solve_Riemann_y(aL,aR,v)\n",
    "        a[:,1:]=a[:,1:]-dt/dx*(np.roll(flux,-1,axis=1)-flux)\n",
    "        a=set_periodic_bc(a)\n",
    "    else:  \n",
    "        aL=calculate_aL_y(a,v,dt,dx)\n",
    "        aR=calculate_aR_y(a,v,dt,dx)\n",
    "        flux=solve_Riemann_y(aL,aR,v)\n",
    "        a[:,1:]=a[:,1:]-dt/dx*(np.roll(flux,-1,axis=1)-flux)\n",
    "        a=set_periodic_bc(a)\n",
    "        aL=calculate_aL_x(a,u,dt,dx)\n",
    "        aR=calculate_aR_x(a,u,dt,dx)\n",
    "        flux=solve_Riemann_x(aL,aR,u)\n",
    "        a[1:,:]=a[1:,:]-dt/dx*(np.roll(flux,-1,axis=0)-flux)\n",
    "        a=set_periodic_bc(a)\n",
    "        \n",
    "    t += dt\n",
    "    nt += 1\n",
    "    \n",
    "plt.pcolormesh(x[:nx],y[:ny],a[:nx,:ny])\n",
    "plt.xlabel(\"$x$\", fontsize=16)\n",
    "plt.ylabel(\"$y$\", fontsize=16)\n",
    "#plt.gca().axis_equal()\n",
    "plt.colorbar()\n",
    "plt.tight_layout()\n",
    "plt.show()"
   ]
  },
  {
   "cell_type": "markdown",
   "metadata": {},
   "source": [
    "We now set the velocity $v$ to be different, so the solution will travel slower along the $y$ direction."
   ]
  },
  {
   "cell_type": "code",
   "execution_count": 64,
   "metadata": {},
   "outputs": [
    {
     "data": {
      "image/png": "[encoded data removed]",
      "text/plain": [
       "<matplotlib.figure.Figure at 0x7f6394ca6050>"
      ]
     },
     "metadata": {},
     "output_type": "display_data"
    }
   ],
   "source": [
    "t0=0.; tmax=1.;\n",
    "nx=64; u=1.;\n",
    "ny=64; v=0.5;\n",
    "xmin=0.; xmax=1.\n",
    "dx=(xmax-xmin)/(nx)\n",
    "x=create_grid(nx+1,dx)\n",
    "ymin=0.; ymax=1.\n",
    "dy=(xmax-xmin)/(ny)\n",
    "y=create_grid(ny+1,dy)\n",
    "a0=initialize_state(nx+1,ny+1,dx,dy)\n",
    "a0=set_periodic_bc(a0)\n",
    "t=t0; nt=0\n",
    "a=a0.copy()\n",
    "C=0.9\n",
    "while t < tmax:\n",
    "    dt=calculate_timestep(C,u,dx,v,dy)\n",
    "    if(np.mod(nt,2)==0):  # For strang splitting, we do things differently on odd- and even time-steps\n",
    "        aL=calculate_aL_x(a,u,dt,dx)\n",
    "        aR=calculate_aR_x(a,u,dt,dx)\n",
    "        flux=solve_Riemann_x(aL,aR,u)\n",
    "        a[1:,:]=a[1:,:]-dt/dx*(np.roll(flux,-1,axis=0)-flux)\n",
    "        a=set_periodic_bc(a)\n",
    "        aL=calculate_aL_y(a,v,dt,dx)\n",
    "        aR=calculate_aR_y(a,v,dt,dx)\n",
    "        flux=solve_Riemann_y(aL,aR,v)\n",
    "        a[:,1:]=a[:,1:]-dt/dx*(np.roll(flux,-1,axis=1)-flux)\n",
    "        a=set_periodic_bc(a)\n",
    "    else:  \n",
    "        aL=calculate_aL_y(a,v,dt,dx)\n",
    "        aR=calculate_aR_y(a,v,dt,dx)\n",
    "        flux=solve_Riemann_y(aL,aR,v)\n",
    "        a[:,1:]=a[:,1:]-dt/dx*(np.roll(flux,-1,axis=1)-flux)\n",
    "        a=set_periodic_bc(a)\n",
    "        aL=calculate_aL_x(a,u,dt,dx)\n",
    "        aR=calculate_aR_x(a,u,dt,dx)\n",
    "        flux=solve_Riemann_x(aL,aR,u)\n",
    "        a[1:,:]=a[1:,:]-dt/dx*(np.roll(flux,-1,axis=0)-flux)\n",
    "        a=set_periodic_bc(a)\n",
    "        \n",
    "    t += dt\n",
    "    nt += 1\n",
    "    \n",
    "plt.pcolormesh(x[:nx],y[:ny],a[:nx,:ny])\n",
    "plt.xlabel(\"$x$\", fontsize=16)\n",
    "plt.ylabel(\"$y$\", fontsize=16)\n",
    "#plt.gca().axis_equal()\n",
    "plt.colorbar()\n",
    "plt.tight_layout()\n",
    "plt.show()"
   ]
  },
  {
   "cell_type": "markdown",
   "metadata": {},
   "source": [
    "## Gaussian initial conditions\n",
    "\n",
    "Finally, let us try Gaussian initial conditions"
   ]
  },
  {
   "cell_type": "code",
   "execution_count": 57,
   "metadata": {},
   "outputs": [],
   "source": [
    "def initialize_state_gauss(nx,ny,dx,dy):\n",
    "    xmin=0.; xmax=1.\n",
    "    dx=(xmax-xmin)/(nx)\n",
    "    x=create_grid(nx+1,dx)\n",
    "    ymin=0.; ymax=1.\n",
    "    dy=(xmax-xmin)/(ny)\n",
    "    y=create_grid(ny+1,dy)\n",
    "    xx,yy=np.meshgrid(x,y)\n",
    "    m=np.exp(-(((xx-0.5)**2.+(yy-0.5)**2.)/0.03))\n",
    "    return m"
   ]
  },
  {
   "cell_type": "code",
   "execution_count": 58,
   "metadata": {},
   "outputs": [
    {
     "data": {
      "image/png": "[encoded data removed]",
      "text/plain": [
       "<matplotlib.figure.Figure at 0x7f63610e9d90>"
      ]
     },
     "metadata": {},
     "output_type": "display_data"
    }
   ],
   "source": [
    "t0=0.; tmax=1.;\n",
    "nx=64; u=1.;\n",
    "ny=64; v=1.;\n",
    "xmin=0.; xmax=1.\n",
    "dx=(xmax-xmin)/(nx)\n",
    "x=create_grid(nx+1,dx)\n",
    "ymin=0.; ymax=1.\n",
    "dy=(xmax-xmin)/(ny)\n",
    "y=create_grid(ny+1,dy)\n",
    "a0=initialize_state_gauss(nx+1,ny+1,dx,dy)\n",
    "a0=set_periodic_bc(a0)\n",
    "t=t0; nt=0\n",
    "a=a0.copy()\n",
    "C=0.9\n",
    "while t < tmax:\n",
    "    dt=calculate_timestep(C,u,dx,v,dy)\n",
    "    if(np.mod(nt,2)==0):\n",
    "        aL=calculate_aL_x(a,u,dt,dx)\n",
    "        aR=calculate_aR_x(a,u,dt,dx)\n",
    "        flux=solve_Riemann_x(aL,aR,u)\n",
    "        a[1:,:]=a[1:,:]-dt/dx*(np.roll(flux,-1,axis=0)-flux)\n",
    "        a=set_periodic_bc(a)\n",
    "        aL=calculate_aL_y(a,v,dt,dx)\n",
    "        aR=calculate_aR_y(a,v,dt,dx)\n",
    "        flux=solve_Riemann_y(aL,aR,v)\n",
    "        a[:,1:]=a[:,1:]-dt/dx*(np.roll(flux,-1,axis=1)-flux)\n",
    "        a=set_periodic_bc(a)\n",
    "    else:  \n",
    "        aL=calculate_aL_y(a,v,dt,dx)\n",
    "        aR=calculate_aR_y(a,v,dt,dx)\n",
    "        flux=solve_Riemann_y(aL,aR,v)\n",
    "        a[:,1:]=a[:,1:]-dt/dx*(np.roll(flux,-1,axis=1)-flux)\n",
    "        a=set_periodic_bc(a)\n",
    "        aL=calculate_aL_x(a,u,dt,dx)\n",
    "        aR=calculate_aR_x(a,u,dt,dx)\n",
    "        flux=solve_Riemann_x(aL,aR,u)\n",
    "        a[1:,:]=a[1:,:]-dt/dx*(np.roll(flux,-1,axis=0)-flux)\n",
    "        a=set_periodic_bc(a)\n",
    "        \n",
    "    t += dt\n",
    "    nt += 1\n",
    "    \n",
    "plt.pcolormesh(x[:nx],y[:ny],a[:nx,:ny])\n",
    "plt.xlabel(\"$x$\", fontsize=16)\n",
    "plt.ylabel(\"$y$\", fontsize=16)\n",
    "#plt.gca().axis_equal()\n",
    "plt.colorbar()\n",
    "plt.tight_layout()\n",
    "plt.show()"
   ]
  }
 ],
 "metadata": {
  "kernelspec": {
   "display_name": "Python 2",
   "language": "python",
   "name": "python2"
  },
  "language_info": {
   "codemirror_mode": {
    "name": "ipython",
    "version": 3
   },
   "file_extension": ".py",
   "mimetype": "text/x-python",
   "name": "python",
   "nbconvert_exporter": "python",
   "pygments_lexer": "ipython3",
   "version": "3.6.7"
  }
 },
 "nbformat": 4,
 "nbformat_minor": 2
}
