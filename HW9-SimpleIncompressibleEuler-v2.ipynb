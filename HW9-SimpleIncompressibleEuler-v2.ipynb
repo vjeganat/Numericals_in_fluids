{
 "cells": [
  {
   "cell_type": "code",
   "execution_count": 1,
   "metadata": {},
   "outputs": [],
   "source": [
    "import numpy as np\n",
    "import matplotlib.pyplot as plt\n",
    "import matplotlib as mpl"
   ]
  },
  {
   "cell_type": "markdown",
   "metadata": {},
   "source": [
    "## Linear advection equation \n",
    "\n",
    "We want to solve the incompressible Euler equations in two-dimensions. Unlike the compressible equations, where we can write them in one dimension, the incompressible Euler requires at least two-dimensions to have non trivial solutions.\n",
    "\n",
    "The basic algorithm is:\n",
    "\n",
    "1. Create the time-centered advective velocities through the faces of the zones.\n",
    "2. Project the advective velocities such that they obey the velocity constraint\n",
    "3. Construct the time-centered interface states of all quantities on the faces of the zones using the advective velocity.\n",
    "4. Update the velocity to the new time. This is defines the provisional velocity field—it does not yet satisfy the constraint.\n",
    "5. Enforce the velocity constraint by projecting the velocity.\n",
    "\n",
    "Parts two and five are the new ones. Part five is present in every incompressible method that generates an intermediate/provisional velocity field, and then corrects for incompressibility. \n",
    "\n",
    "Part two is not present in all incompressible codes. It is is introduced because when interpolating to create our advective velocities we are not guaranteed to have an incompressible flow. In theory we could write the equations in another manner such that this interpolation is not there, or even go without this step, as the book says- this would just make our code a little bit more unstable, and lower the CFL condition. However, if we do not make our velocities divergence free- we lose conservation of mass, and thus we lose all possible conservation properties of the scheme. \n",
    "\n",
    "### Code\n",
    "\n",
    "We write down routines to create the grid, set the boundary conditions and initialize the state separately"
   ]
  },
  {
   "cell_type": "code",
   "execution_count": 2,
   "metadata": {},
   "outputs": [],
   "source": [
    "def create_grid(ni,di):\n",
    "    return np.arange(ni)*di"
   ]
  },
  {
   "cell_type": "code",
   "execution_count": 3,
   "metadata": {},
   "outputs": [],
   "source": [
    "def set_periodic_bc(mm):\n",
    "    mm[0,:]=mm[-1,:]\n",
    "    mm[:,0]=mm[:,-1]\n",
    "    return mm"
   ]
  },
  {
   "cell_type": "code",
   "execution_count": 4,
   "metadata": {},
   "outputs": [],
   "source": [
    "def initialize_state(nx,ny,x,y):\n",
    "    X,Y=np.meshgrid(x,y)\n",
    "    u=1.-2.*np.cos(2.*np.pi*X)*np.sin(2.*np.pi*Y)\n",
    "    v=1.+2.*np.sin(2.*np.pi*X)*np.cos(2.*np.pi*Y)\n",
    "    return u,v"
   ]
  },
  {
   "cell_type": "code",
   "execution_count": 66,
   "metadata": {},
   "outputs": [],
   "source": [
    "def calculate_timestep(C,u,dx,v,dy):\n",
    "    return np.min(np.abs(np.array([dx*C/u,dy*C/v])))"
   ]
  },
  {
   "cell_type": "code",
   "execution_count": 42,
   "metadata": {},
   "outputs": [],
   "source": [
    "def solve_periodic_poisson(rhs,dx,dy,imax=1000,tol=1e-6):\n",
    "    # This for now assumes dx=dy\n",
    "    phi=np.zeros(rhs.shape)\n",
    "    resi_norm=1.; niter = 0;\n",
    "    while ((resi_norm > tol) and (niter < imax)):\n",
    "        stencil=np.roll(phi,1,axis=0)+np.roll(phi,-1,axis=0)+np.roll(phi,1,axis=1)+np.roll(phi,-1,axis=1)\n",
    "        res= rhs-(stencil-4*phi)/(dx*dx)\n",
    "        phi=0.25*(stencil-dx*dx*rhs)\n",
    "        resi_norm=np.linalg.norm(res)*dx*dx\n",
    "        niter=niter+1\n",
    "\n",
    "    return phi"
   ]
  },
  {
   "cell_type": "markdown",
   "metadata": {},
   "source": [
    "## Step 1: Calculate the advective velocities\n",
    "\n",
    "This is slightly more complicated than HW8 because we will not use Strang splitting, and will account for the transverse fluxes.\n",
    "\n",
    "We calculate the  'left' and 'right' states for the ($i\\pm1/2,j)$. We will follow Eq. (14.30) and (14.32)."
   ]
  },
  {
   "cell_type": "code",
   "execution_count": 29,
   "metadata": {},
   "outputs": [],
   "source": [
    "def calculate_L_x(u,v,dt,dx):\n",
    "    dudx=(np.roll(u,-1,axis=0)-np.roll(u,1,axis=0))/(2.*dx)\n",
    "    dvdx=(np.roll(v,-1,axis=0)-np.roll(v,1,axis=0))/(2.*dx)\n",
    "    return u+dx/2.*(1.-dt/dx*u)*dudx,v+dx/2.*(1.-dt/dx*u)*dvdx"
   ]
  },
  {
   "cell_type": "code",
   "execution_count": 30,
   "metadata": {},
   "outputs": [],
   "source": [
    "def calculate_R_x(u,v,dt,dx):\n",
    "    dudx=(np.roll(u,-1,axis=0)-np.roll(u,1,axis=0))/(2.*dx)\n",
    "    dvdx=(np.roll(v,-1,axis=0)-np.roll(v,1,axis=0))/(2.*dx)\n",
    "    return np.roll(u-dx/2.*(1.+dt/dx*u)*dudx,-1,axis=0),np.roll(v-dx/2.*(1.+dt/dx*u)*dvdx,-1,axis=0)"
   ]
  },
  {
   "cell_type": "markdown",
   "metadata": {},
   "source": [
    "We calculate the  'left' and 'right' states for the ($i,j\\pm1/2)$ with Strang splitting, it becomes the same as earlier."
   ]
  },
  {
   "cell_type": "code",
   "execution_count": 31,
   "metadata": {},
   "outputs": [],
   "source": [
    "def calculate_L_y(u,v,dt,dy):\n",
    "    dudy=(np.roll(u,-1,axis=1)-np.roll(u,1,axis=1))/(2.*dy)\n",
    "    dvdy=(np.roll(v,-1,axis=1)-np.roll(v,1,axis=1))/(2.*dy)\n",
    "    return u+dy/2.*(1.-dt/dy*v)*dudy,v+dy/2.*(1.-dt/dy*v)*dvdy"
   ]
  },
  {
   "cell_type": "code",
   "execution_count": 32,
   "metadata": {},
   "outputs": [],
   "source": [
    "def calculate_R_y(u,v,dt,dy):\n",
    "    dudy=(np.roll(u,-1,axis=1)-np.roll(u,1,axis=1))/(2.*dy)\n",
    "    dvdy=(np.roll(v,-1,axis=1)-np.roll(v,1,axis=1))/(2.*dy)\n",
    "    return np.roll(u-dy/2.*(1.+dt/dy*v)*dudy,-1,axis=1),np.roll(v-dy/2.*(1.+dt/dy*v)*dvdy,-1,axis=1)"
   ]
  },
  {
   "cell_type": "markdown",
   "metadata": {},
   "source": [
    "We calculate the advective velocities using the left and right states. We define our Riemann solver using 14.38"
   ]
  },
  {
   "cell_type": "code",
   "execution_count": 33,
   "metadata": {},
   "outputs": [],
   "source": [
    "def riemann_problem(ql,qr):\n",
    "    result=qr.copy()\n",
    "    nx=qr.shape[0]\n",
    "    ny=qr.shape[1]\n",
    "    for i in range(nx):\n",
    "        for j in range(ny):\n",
    "            if (ql[i,j]>0. and (ql[i,j]+qr[i,j])>0.):\n",
    "                result[i,j]=ql[i,j]\n",
    "            elif (ql[i,j]<=0. and qr[i,j] >= 0.):\n",
    "                result[i,j]=0.\n",
    "            \n",
    "    return result"
   ]
  },
  {
   "cell_type": "markdown",
   "metadata": {},
   "source": [
    "and the Upwinding function using 14.41:"
   ]
  },
  {
   "cell_type": "code",
   "execution_count": 34,
   "metadata": {},
   "outputs": [],
   "source": [
    "def upwinding(sadv,ql,qr):\n",
    "    nx=sadv.shape[0]\n",
    "    ny=sadv.shape[1]\n",
    "    uint = np.zeros([nx,ny])\n",
    "    for i in range(nx):\n",
    "        for j in range(ny):\n",
    "            if (sadv[i,j]>0.0001):\n",
    "                uint[i,j]=ql[i,j]\n",
    "            elif(sadv[i,j]<0.0001):\n",
    "                uint[i,j]=qr[i,j]\n",
    "                \n",
    "    return uint"
   ]
  },
  {
   "cell_type": "code",
   "execution_count": 35,
   "metadata": {},
   "outputs": [],
   "source": [
    "def calc_adv_velocities(u,v,p,dx,dy,dt):\n",
    "    \n",
    "    uhatiL,vhatiL=calculate_L_x(u,v,dt,dx)\n",
    "    uhatiR,vhatiR=calculate_R_x(u,v,dt,dx)\n",
    "    uhatjL,vhatjL=calculate_L_y(u,v,dt,dy)\n",
    "    uhatjR,vhatjR=calculate_R_y(u,v,dt,dy)\n",
    "    \n",
    "    uhadv=riemann_problem(uhatiL,uhatiR)\n",
    "    vhadv=riemann_problem(vhatjL,vhatjR)\n",
    "\n",
    "    uinti=upwinding(uhadv,uhatiL,uhatiR)\n",
    "    uintj=upwinding(uhadv,uhatjL,uhatjR)\n",
    "    vinti=upwinding(vhadv,vhatiL,vhatiR)\n",
    "    vintj=upwinding(vhadv,vhatjL,vhatjR)\n",
    "\n",
    "    tfluxi=dt/2.*(0.5*(np.roll(vhadv,1,axis=1)+vhadv))*(uintj-np.roll(uintj,1,axis=1)/dy)-dt/2.*(np.roll(p,-1,axis=0)-np.roll(p,1,axis=0))/(2.*dx)\n",
    "    tfluxj=dt/2.*(0.5*(np.roll(uhadv,1,axis=0)+uhadv))*(vintj-np.roll(vintj,1,axis=1)/dy)-dt/2.*(np.roll(p,-1,axis=1)-np.roll(p,1,axis=1))/(2.*dy)\n",
    "    uiL = uhatiL - tfluxi\n",
    "    uiR = uhatiR - np.roll(tfluxi,-1,axis=0)\n",
    "    vjL = vhatiL - tfluxj\n",
    "    vjR = vhatiL - np.roll(tfluxj,-1,axis=1)\n",
    "    uadv=riemann_problem(uiL,uiR)\n",
    "    vadv=riemann_problem(uiL,uiR)\n",
    "    return uadv, vadv"
   ]
  },
  {
   "cell_type": "markdown",
   "metadata": {},
   "source": [
    "## Step 2-3: Correct advective/MAC velocities & Recalculate Interface velocities"
   ]
  },
  {
   "cell_type": "markdown",
   "metadata": {},
   "source": [
    "These steps are optional, in the sense we could just go with the advective velocities from above, and use these to solve the ''upwind'' function, to determine the interface states. As discussed, this makes the code more unstable. \n",
    "\n",
    "This corrects the MAC advective velocities."
   ]
  },
  {
   "cell_type": "code",
   "execution_count": 44,
   "metadata": {},
   "outputs": [],
   "source": [
    "def corr_adv_velocities(uadv,vadv,dx,dy):\n",
    "    div= (uadv-np.roll(uadv,1,axis=0))/dx+(vadv-np.roll(vadv,1,axis=1))/dy\n",
    "    phicorr=solve_periodic_poisson(div,dx,dy)\n",
    "    uadvc = uadv - (np.roll(phicorr,-1,axis=0)-phicorr)/dx\n",
    "    vadvc = vadv - (np.roll(phicorr,-1,axis=1)-phicorr)/dy\n",
    "    return uadvc,vadvc"
   ]
  },
  {
   "cell_type": "markdown",
   "metadata": {},
   "source": [
    "Now I go back, and recalculate the two velocities at the four interfaces using the upwinding function with the corrected advective velocity."
   ]
  },
  {
   "cell_type": "code",
   "execution_count": 37,
   "metadata": {},
   "outputs": [],
   "source": [
    "def calc_corr_velocities(u,v,p,uadvc,vadvc,dx,dy,dt):\n",
    "    uhatiL,vhatiL=calculate_L_x(u,v,dt,dx)\n",
    "    uhatiR,vhatiR=calculate_R_x(u,v,dt,dx)\n",
    "    uhatjL,vhatjL=calculate_L_y(u,v,dt,dy)\n",
    "    uhatjR,vhatjR=calculate_R_y(u,v,dt,dy)\n",
    "    uinti=upwinding(uadvc,uhatiL,uhatiR)\n",
    "    uintj=upwinding(uadvc,uhatjL,uhatjR)\n",
    "    vinti=upwinding(vadvc,vhatiL,vhatiR)\n",
    "    vintj=upwinding(vadvc,vhatjL,vhatjR)\n",
    "    return uinti,uintj,vinti,vintj"
   ]
  },
  {
   "cell_type": "markdown",
   "metadata": {},
   "source": [
    "## Step 4:  Provisional update\n",
    "\n",
    "With this, I can now calculate the fluxes for the advective term- and obtain a provisional, non-solenoidal field. We will use the $u^{\\star\\star}$ formulation, with no pressure gradient."
   ]
  },
  {
   "cell_type": "code",
   "execution_count": 38,
   "metadata": {},
   "outputs": [],
   "source": [
    "def calc_prov_velocities(u,v,uinti,uintj,vinti,vintj,uadvc,vadvc,dx,dy,dt):\n",
    "    Au = 0.5*(uadvc+np.roll(uadvc,1,axis=0))*(uinti-np.roll(uinti,1,axis=0))/dx+0.5*(vadvc+np.roll(vadvc,1,axis=1))*(uinti-np.roll(uinti,1,axis=1))/dy\n",
    "    Av = 0.5*(uadvc+np.roll(uadvc,1,axis=0))*(vinti-np.roll(vinti,1,axis=0))/dx+0.5*(vadvc+np.roll(vadvc,1,axis=1))*(vinti-np.roll(vinti,1,axis=1))/dy\n",
    "    ustar = u-dt*Au\n",
    "    vstar = v-dt*Av\n",
    "    return ustar,vstar"
   ]
  },
  {
   "cell_type": "markdown",
   "metadata": {},
   "source": [
    "## Step 5: Correct non-solenoidal fields\n",
    "\n",
    "We finally correct the non-solenoidal field, and in this step we calculate the pressure for the next time-step."
   ]
  },
  {
   "cell_type": "code",
   "execution_count": 39,
   "metadata": {},
   "outputs": [],
   "source": [
    "def corr_prov_velocities(u,v,ustar,vstar,dx,dy):\n",
    "    div= (np.roll(uadv,-1,axis=0)-np.roll(uadv,1,axis=0))/dx+(np.roll(vadv,-1,axis=0)-np.roll(vadv,1,axis=1))/dy\n",
    "    phi=solve_periodic_poisson(div,dx,dy)\n",
    "    u = ustar - dt*(np.roll(phi,-1,axis=0)-np.roll(phi,1,axis=0))/dx\n",
    "    v = vstar - dt*(np.roll(phi,-1,axis=1)-np.roll(phi,1,axis=1))/dy\n",
    "    p = phi.copy()\n",
    "    return u,v,p"
   ]
  },
  {
   "cell_type": "code",
   "execution_count": 77,
   "metadata": {},
   "outputs": [
    {
     "data": {
      "image/png": "[encoded data removed]",
      "text/plain": [
       "<Figure size 432x288 with 2 Axes>"
      ]
     },
     "metadata": {
      "needs_background": "light"
     },
     "output_type": "display_data"
    }
   ],
   "source": [
    "t0=0.; tmax=1.;\n",
    "nx=64; u=1.;\n",
    "ny=64; v=0.5;\n",
    "xmin=0.; xmax=1.\n",
    "dx=(xmax-xmin)/(nx)\n",
    "x=create_grid(nx+1,dx)\n",
    "xm=0.5*(x[:-1]+x[1:])\n",
    "ymin=0.; ymax=1.\n",
    "dy=(xmax-xmin)/(ny)\n",
    "y=create_grid(ny+1,dy)\n",
    "ym=0.5*(y[:-1]+y[1:])\n",
    "u0,v0=initialize_state(nx+1,ny+1,xm,ym)\n",
    "#u0=set_periodic_bc(u0)\n",
    "#v0=set_periodic_bc(v0)\n",
    "t=t0; nt=0\n",
    "u=u0.copy()\n",
    "v=v0.copy()\n",
    "\n",
    "p=np.zeros([nx,ny])\n",
    "#p = set_periodic_bc(p)\n",
    "C=0.3\n",
    "ntmax = 500\n",
    "while (t < tmax) and (nt < ntmax):\n",
    "    dt=calculate_timestep(C,u,dx,v,dy)\n",
    "    uadv, vadv=calc_adv_velocities(u,v,p,dx,dy,dt)\n",
    "    uadvc, vadvc=corr_adv_velocities(uadv,vadv,dx,dy)\n",
    "    uinti, uintj, vinti, vintj = calc_corr_velocities(u,v,p,uadvc,vadvc,dx,dy,dt)\n",
    "    ustar, vstar = calc_prov_velocities(u,v,uinti,uintj,vinti,vintj,uadvc,vadvc,dx,dy,dt)\n",
    "    u,v,p =corr_prov_velocities(u,v,ustar,vstar,dx,dy)\n",
    "#    u = set_periodic_bc(u)\n",
    "#    v = set_periodic_bc(v)\n",
    "#    p = set_periodic_bc(p)\n",
    "    t += dt\n",
    "    nt += 1\n",
    "    \n",
    "plt.pcolormesh(x[:nx],y[:ny],u[:nx,:ny])\n",
    "plt.xlabel(\"$x$\", fontsize=16)\n",
    "plt.ylabel(\"$y$\", fontsize=16)\n",
    "#plt.gca().axis_equal()\n",
    "plt.colorbar()\n",
    "plt.tight_layout()\n",
    "plt.show()"
   ]
  },
  {
   "cell_type": "code",
   "execution_count": 75,
   "metadata": {},
   "outputs": [
    {
     "data": {
      "image/png": "[encoded data removed]",
      "text/plain": [
       "<Figure size 432x288 with 1 Axes>"
      ]
     },
     "metadata": {
      "needs_background": "light"
     },
     "output_type": "display_data"
    }
   ],
   "source": [
    "plt.pcolormesh(x,y,uadv)\n",
    "plt.show()"
   ]
  },
  {
   "cell_type": "code",
   "execution_count": 67,
   "metadata": {},
   "outputs": [
    {
     "data": {
      "text/plain": [
       "0.15025199379781357"
      ]
     },
     "execution_count": 67,
     "metadata": {},
     "output_type": "execute_result"
    }
   ],
   "source": [
    "dt=calculate_timestep(C,u0,dx,v0,dy)\n",
    "np.min(np.abs([u0*C/dx,v0*C/dy]))"
   ]
  },
  {
   "cell_type": "code",
   "execution_count": 70,
   "metadata": {},
   "outputs": [
    {
     "data": {
      "text/plain": [
       "1.0001615419319794"
      ]
     },
     "execution_count": 70,
     "metadata": {},
     "output_type": "execute_result"
    }
   ],
   "source": [
    "t"
   ]
  },
  {
   "cell_type": "code",
   "execution_count": null,
   "metadata": {},
   "outputs": [],
   "source": []
  }
 ],
 "metadata": {
  "kernelspec": {
   "display_name": "Python 3",
   "language": "python",
   "name": "python3"
  },
  "language_info": {
   "codemirror_mode": {
    "name": "ipython",
    "version": 3
   },
   "file_extension": ".py",
   "mimetype": "text/x-python",
   "name": "python",
   "nbconvert_exporter": "python",
   "pygments_lexer": "ipython3",
   "version": "3.8.10"
  }
 },
 "nbformat": 4,
 "nbformat_minor": 2
}
