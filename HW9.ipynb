{
 "cells": [
  {
   "cell_type": "code",
   "execution_count": 1,
   "metadata": {},
   "outputs": [
    {
     "data": {
      "text/plain": [
       "<Figure size 432x288 with 0 Axes>"
      ]
     },
     "metadata": {},
     "output_type": "display_data"
    }
   ],
   "source": [
    "import matplotlib.pyplot as plt\n",
    "import numpy as np\n",
    "import math\n",
    "from scipy.interpolate import griddata\n",
    "from IPython.display import Image\n",
    "%matplotlib inline\n",
    "plt.rc('text', usetex=True)\n",
    "plt.rc('font', size=22)\n",
    "plt.gcf().tight_layout()"
   ]
  },
  {
   "cell_type": "markdown",
   "metadata": {},
   "source": [
    "# Problem 1"
   ]
  },
  {
   "cell_type": "markdown",
   "metadata": {},
   "source": [
    "Pressure in the incompressible flow makes the code non-localized. In compressible flow, the information of pressure travels a particular speed (the one corresponds to the wave of sound). It is to be noted that the speed of sound is infinite in incompressible flow, making the information travel infinitely fast. This leads to using techniques like pseudo-time to capture the characteristics in incompressible flow"
   ]
  },
  {
   "cell_type": "markdown",
   "metadata": {},
   "source": [
    "# Problem 2"
   ]
  },
  {
   "cell_type": "markdown",
   "metadata": {},
   "source": [
    "The CFL conditions in compressible and incompressible flows are different. If we were to use the same CFL condition for both the cases, the incompressible flow would have very less time step size because the information travels infinitely faster in incompressible flows."
   ]
  },
  {
   "cell_type": "markdown",
   "metadata": {},
   "source": [
    "# Problem 3"
   ]
  },
  {
   "cell_type": "markdown",
   "metadata": {},
   "source": [
    "In artificial compressibility method, we give a density variation artificially. This leads us to non-localize the code to some extent. However, when we try to change the dynamic pressure throught the domain, the code loses its non-locality.\n",
    "\n",
    "Pseudo time is used to make sure the information travels from ends of the domain at every time step. This is another way of dealing with non-locality.\n",
    "\n",
    "Both artificial compressibility and pseudo-time are iterative methods."
   ]
  },
  {
   "cell_type": "code",
   "execution_count": null,
   "metadata": {},
   "outputs": [],
   "source": []
  }
 ],
 "metadata": {
  "kernelspec": {
   "display_name": "Python 3",
   "language": "python",
   "name": "python3"
  },
  "language_info": {
   "codemirror_mode": {
    "name": "ipython",
    "version": 3
   },
   "file_extension": ".py",
   "mimetype": "text/x-python",
   "name": "python",
   "nbconvert_exporter": "python",
   "pygments_lexer": "ipython3",
   "version": "3.8.10"
  }
 },
 "nbformat": 4,
 "nbformat_minor": 2
}
