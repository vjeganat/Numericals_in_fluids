{
 "cells": [
  {
   "cell_type": "code",
   "execution_count": 1,
   "metadata": {},
   "outputs": [],
   "source": [
    "import matplotlib.pyplot as plt\n",
    "import numpy as np\n",
    "%matplotlib inline"
   ]
  },
  {
   "cell_type": "markdown",
   "metadata": {},
   "source": [
    "# Problem 1"
   ]
  },
  {
   "cell_type": "code",
   "execution_count": 68,
   "metadata": {
    "scrolled": true
   },
   "outputs": [
    {
     "name": "stdout",
     "output_type": "stream",
     "text": [
      "epsilon 1.1102230246251565e-16\n"
     ]
    }
   ],
   "source": [
    "eps=1\n",
    "while 1+eps != 1:\n",
    "    eps= eps/2\n",
    "print('epsilon',eps)"
   ]
  },
  {
   "cell_type": "markdown",
   "metadata": {},
   "source": [
    "# Problem 2 and 3"
   ]
  },
  {
   "cell_type": "code",
   "execution_count": null,
   "metadata": {},
   "outputs": [],
   "source": [
    "from IPython.display import Image\n",
    "Image(\"./hw1.jpg\")"
   ]
  },
  {
   "cell_type": "markdown",
   "metadata": {},
   "source": [
    "# Problem 4"
   ]
  },
  {
   "cell_type": "code",
   "execution_count": null,
   "metadata": {},
   "outputs": [],
   "source": [
    "def euler(delt):\n",
    "#known constants\n",
    "    a=1\n",
    "    e=0.0167\n",
    "    t=1\n",
    "    GM=4*np.pi**2\n",
    "\n",
    "    #simulation input\n",
    "    nt=int(t/delt)\n",
    "\n",
    "    #declaring arrays\n",
    "    ts= np.linspace(0,t,nt)\n",
    "    vx= np.zeros(nt)\n",
    "    vy= np.zeros(nt)\n",
    "    rx= np.zeros(nt)\n",
    "    ry= np.zeros(nt)\n",
    "\n",
    "    #initial condition\n",
    "    vx[0]=-(GM*(1+e)/(1-e))**0.5\n",
    "    vy[0]=0\n",
    "    rx[0]=0\n",
    "    ry[0]=a*(1-e)\n",
    "\n",
    "    for i in range(len(ts)):\n",
    "        if i==0:\n",
    "            continue\n",
    "        vx[i]=-delt*GM*rx[i-1]/((rx[i-1])**2+(ry[i-1])**2)**(3/2) + vx[i-1]\n",
    "        vy[i]=-delt*GM*ry[i-1]/((rx[i-1])**2+(ry[i-1])**2)**(3/2) + vy[i-1]\n",
    "        rx[i]=delt*vx[i-1]+rx[i-1]\n",
    "        ry[i]=delt*vy[i-1]+ry[i-1]\n",
    "    \n",
    "    dist=(rx**2+ry**2)**0.5\n",
    "    return ts, dist, dist[-1]-dist[0]"
   ]
  },
  {
   "cell_type": "code",
   "execution_count": null,
   "metadata": {
    "scrolled": false
   },
   "outputs": [],
   "source": [
    "delt=[0.01,0.001,0.0001,0.00001]\n",
    "\n",
    "for idx, case in enumerate(delt):\n",
    "    [ts,dist,error]= euler(case)\n",
    "    print('Error caused in one time period for time step size '+str(case)+ ' is '+str(error))\n",
    "    plt.plot(ts,dist, label=case)\n",
    "    plt.rc('text', usetex=True)\n",
    "    plt.rc('font', size=22)\n",
    "    plt.ylabel(r'Distance in AU')\n",
    "    plt.xlabel(r'Time in years')\n",
    "    plt.gcf().tight_layout()\n",
    "    plt.legend(fontsize=14, frameon=False)"
   ]
  },
  {
   "cell_type": "markdown",
   "metadata": {},
   "source": [
    "## In case of explict euler method, for the time step size 1e-4 and below the solution hardly changes as shown in the figure."
   ]
  },
  {
   "cell_type": "code",
   "execution_count": 64,
   "metadata": {},
   "outputs": [],
   "source": [
    "def RK4(delt):\n",
    "    a=1\n",
    "    e=0.0167\n",
    "    t=1\n",
    "    GM=4*np.pi**2\n",
    "    \n",
    "    #simulation input\n",
    "    nt=int(t/delt)+1\n",
    "\n",
    "    #declaring arrays\n",
    "    ts= np.linspace(0,t,nt)\n",
    "    vx= np.zeros(nt)\n",
    "    vy= np.zeros(nt)\n",
    "    rx= np.zeros(nt)\n",
    "    ry= np.zeros(nt)\n",
    "\n",
    "    #initial condition\n",
    "    vx[0]=-(GM*(1+e)/(1-e))**0.5\n",
    "    vy[0]=0\n",
    "    rx[0]=0\n",
    "    ry[0]=a*(1-e)\n",
    "\n",
    "    #function definitions\n",
    "    def RK4vx(rx,ry):\n",
    "        return -GM*rx/((rx)**2+(ry)**2)**(3.0/2.0)\n",
    "\n",
    "    def RK4vy(rx,ry):\n",
    "        return -GM*ry/((rx)**2+(ry)**2)**(3.0/2.0)\n",
    "\n",
    "    for i in range(len(ts)):\n",
    "        if i==0:\n",
    "            continue\n",
    "        kv1x=RK4vx(rx[i-1],ry[i-1])\n",
    "        kv1y=RK4vy(rx[i-1],ry[i-1])\n",
    "        kr1x=vx[i-1]\n",
    "        kr1y=vy[i-1]\n",
    "\n",
    "        \n",
    "        kv2x=RK4vx(rx[i-1]+delt/2*kr1x,ry[i-1]+delt/2*kr1y)\n",
    "        kv2y=RK4vy(rx[i-1]+delt/2*kr1x,ry[i-1]+delt/2*kr1y)\n",
    "        kr2x=vx[i-1]+delt/2*kv1x\n",
    "        kr2y=vy[i-1]+delt/2*kv1y\n",
    "\n",
    "        kv3x=RK4vx(rx[i-1]+delt/2*kr2x,ry[i-1]+delt/2*kr2y)\n",
    "        kv3y=RK4vy(rx[i-1]+delt/2*kr2x,ry[i-1]+delt/2*kr2y)\n",
    "        kr3x=vx[i-1]+delt/2*kv2x\n",
    "        kr3y=vy[i-1]+delt/2*kv2y\n",
    "\n",
    "        \n",
    "        kv4x=RK4vx(rx[i-1]+delt*kr3x,ry[i-1]+delt*kr3y)\n",
    "        kv4y=RK4vy(rx[i-1]+delt*kr3x,ry[i-1]+delt*kr3y)\n",
    "        kr4x=vx[i-1]+delt*kv3x\n",
    "        kr4y=vy[i-1]+delt*kv3y\n",
    "        \n",
    "        vx[i]=vx[i-1]+delt/6*(kv1x+2*kv2x+2*kv3x+kv4x)\n",
    "        vy[i]=vy[i-1]+delt/6*(kv1y+2*kv2y+2*kv3y+kv4y)\n",
    "\n",
    "        rx[i]=rx[i-1]+delt/6*(kr1x+2*kr2x+2*kr3x+kr4x)\n",
    "        ry[i]=ry[i-1]+delt/6*(kr1y+2*kr2y+2*kr3y+kr4y)\n",
    "    dist=(rx**2+ry**2)**0.5\n",
    "    return ts, dist, np.sqrt((rx[-1]-rx[0])**2+(ry[-1]-ry[0])**2)"
   ]
  },
  {
   "cell_type": "code",
   "execution_count": 70,
   "metadata": {
    "scrolled": false
   },
   "outputs": [
    {
     "name": "stdout",
     "output_type": "stream",
     "text": [
      "Error caused in one time period for time step size 0.1 is 0.1107625050165327\n",
      "Error caused in one time period for time step size 0.01 is 2.997887339465172e-06\n",
      "Error caused in one time period for time step size 0.001 is 2.2535989371523324e-10\n",
      "Error caused in one time period for time step size 0.0001 is 8.751527878045009e-15\n"
     ]
    },
    {
     "data": {
      "image/png": "[encoded data removed]",
      "text/plain": [
       "<Figure size 432x288 with 1 Axes>"
      ]
     },
     "metadata": {
      "needs_background": "light"
     },
     "output_type": "display_data"
    }
   ],
   "source": [
    "delt=[0.1,0.01,0.001,0.0001]\n",
    "\n",
    "for idx, case in enumerate(delt):\n",
    "    [ts,dist,error]= RK4(case)\n",
    "    print('Error caused in one time period for time step size '+str(case)+ ' is '+str(error))\n",
    "    plt.plot(ts,dist, label=case)\n",
    "    plt.rc('text', usetex=True)\n",
    "    plt.rc('font', size=22)\n",
    "    plt.ylabel(r'Distance in AU')\n",
    "    plt.xlabel(r'Time in years')\n",
    "    plt.gcf().tight_layout()\n",
    "    plt.legend(fontsize=14, frameon=False)"
   ]
  },
  {
   "cell_type": "markdown",
   "metadata": {},
   "source": [
    "## In case of Runge Kutta 4th order method, for the time step size 1e-5 and below the solution hardly changes as shown in the figure"
   ]
  },
  {
   "cell_type": "code",
   "execution_count": 29,
   "metadata": {},
   "outputs": [],
   "source": [
    "def dxdt(x,t):\n",
    "    xp=np.zeros([4])\n",
    "    gm=4.*np.pi*np.pi\n",
    "    r=np.sqrt(x[0]**2.+x[1]**2.)\n",
    "    xp[0:2]=x[2:]\n",
    "    xp[2]=-gm*x[0]/(r**3.)\n",
    "    xp[3]=-gm*x[1]/(r**3.)\n",
    "    return xp"
   ]
  },
  {
   "cell_type": "code",
   "execution_count": 30,
   "metadata": {},
   "outputs": [],
   "source": [
    "a=1.\n",
    "e=0.02\n",
    "gm=4.*np.pi*np.pi\n",
    "x0=np.array([0.,a*(1.-e),-np.sqrt((gm/a)*(1.+e)/(1.-e)),0.])\n",
    "t0=0."
   ]
  },
  {
   "cell_type": "code",
   "execution_count": 31,
   "metadata": {},
   "outputs": [],
   "source": [
    "dt=1e-4\n",
    "tmax=1.\n",
    "nts=int(tmax/dt)\n",
    "xs_hist=np.zeros([4,nts])\n",
    "ts_hist=np.zeros([nts])\n",
    "t=t0\n",
    "x=x0"
   ]
  },
  {
   "cell_type": "code",
   "execution_count": 33,
   "metadata": {},
   "outputs": [],
   "source": [
    "for i in range(nts):\n",
    "    k1=dxdt(x,t)\n",
    "    k2=dxdt(x+k1*0.5*dt,t+dt*0.5)\n",
    "    k3=dxdt(x+k2*0.5*dt,t+dt*0.5)\n",
    "    k4=dxdt(x+k3*dt, t+dt)\n",
    "    x=x+(k1+k2*2.+k3*2.+k4)*dt/6.\n",
    "    t=t+dt\n",
    "    xs_hist[:,i]=x\n",
    "    ts_hist[i]=t"
   ]
  },
  {
   "cell_type": "code",
   "execution_count": 34,
   "metadata": {},
   "outputs": [
    {
     "data": {
      "image/png": "[encoded data removed]",
      "text/plain": [
       "<Figure size 432x288 with 1 Axes>"
      ]
     },
     "metadata": {
      "needs_background": "light"
     },
     "output_type": "display_data"
    }
   ],
   "source": [
    "plt.plot(ts_hist,xs_hist[0,:])\n",
    "plt.plot(ts_hist,xs_hist[1,:])\n",
    "plt.show()"
   ]
  },
  {
   "cell_type": "code",
   "execution_count": 35,
   "metadata": {},
   "outputs": [
    {
     "data": {
      "text/plain": [
       "9.616209326897909e-14"
      ]
     },
     "execution_count": 35,
     "metadata": {},
     "output_type": "execute_result"
    }
   ],
   "source": [
    "np.sqrt((xs_hist[0,-1]-x0[0])**2.+(xs_hist[1,-1]-x0[1])**2.)"
   ]
  },
  {
   "cell_type": "code",
   "execution_count": null,
   "metadata": {},
   "outputs": [],
   "source": []
  }
 ],
 "metadata": {
  "kernelspec": {
   "display_name": "Python 3",
   "language": "python",
   "name": "python3"
  },
  "language_info": {
   "codemirror_mode": {
    "name": "ipython",
    "version": 3
   },
   "file_extension": ".py",
   "mimetype": "text/x-python",
   "name": "python",
   "nbconvert_exporter": "python",
   "pygments_lexer": "ipython3",
   "version": "3.6.7"
  }
 },
 "nbformat": 4,
 "nbformat_minor": 2
}
